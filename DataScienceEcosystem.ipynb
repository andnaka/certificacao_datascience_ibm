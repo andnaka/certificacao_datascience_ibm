{
  "metadata": {
    "kernelspec": {
      "name": "python",
      "display_name": "Python (Pyodide)",
      "language": "python"
    },
    "language_info": {
      "codemirror_mode": {
        "name": "python",
        "version": 3
      },
      "file_extension": ".py",
      "mimetype": "text/x-python",
      "name": "python",
      "nbconvert_exporter": "python",
      "pygments_lexer": "ipython3",
      "version": "3.8"
    }
  },
  "nbformat_minor": 4,
  "nbformat": 4,
  "cells": [
    {
      "cell_type": "markdown",
      "source": "# Ferramentas e Ecosistema de Ciência de Dados",
      "metadata": {}
    },
    {
      "cell_type": "markdown",
      "source": "Neste caderno, as ferramentas e o ecosistema de ciência de dados estão resumidos.",
      "metadata": {}
    },
    {
      "cell_type": "markdown",
      "source": "**Objetivos:**\n* Listar as linguagens mais populares em ciência de dados\n* Listar as biblioteca mais usadas em ciência de dados\n* Listar as principais ferramentas de código aberto em ciência de dados\n* Demonstrar alguns exemplos",
      "metadata": {}
    },
    {
      "cell_type": "markdown",
      "source": "Algumas das linguagens populares que os cientistas de dados usam são:\n* Python\n* R\n* Julia\n* Java",
      "metadata": {}
    },
    {
      "cell_type": "markdown",
      "source": "Algumas das bibliotecas comumente usadas por cientistas de dados incluem:\n* Pandas\n* Numpy\n* Scikit-Learn\n* Tensorflow\n* Pytorch",
      "metadata": {}
    },
    {
      "cell_type": "markdown",
      "source": "Ferramentas de Ciência de Dados|\n:-------------------------------\nJupyter Notebooks|\nR Studio|\nJupyterlab|",
      "metadata": {}
    },
    {
      "cell_type": "markdown",
      "source": "### Abaixo estão alguns exemplos de expressões matemáticas em Python",
      "metadata": {}
    },
    {
      "cell_type": "code",
      "source": "# Esta é uma expressão matemática simples que multiplica e depois adiciona números inteiros\n\n(3 * 4) + 5",
      "metadata": {
        "trusted": true
      },
      "outputs": [
        {
          "execution_count": 10,
          "output_type": "execute_result",
          "data": {
            "text/plain": "17"
          },
          "metadata": {}
        }
      ],
      "execution_count": 10
    },
    {
      "cell_type": "code",
      "source": "# Neste exemplo, vamos converter 200 min em horas\n\nhc = 200 / 60\nprint(hc)",
      "metadata": {
        "trusted": true
      },
      "outputs": [
        {
          "name": "stdout",
          "text": "3.3333333333333335\n",
          "output_type": "stream"
        }
      ],
      "execution_count": 11
    },
    {
      "cell_type": "markdown",
      "source": "## Author\nAnderson Michel Nakamura",
      "metadata": {}
    },
    {
      "cell_type": "code",
      "source": "",
      "metadata": {
        "trusted": true
      },
      "outputs": [],
      "execution_count": null
    }
  ]
}